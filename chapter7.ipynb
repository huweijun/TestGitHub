{
 "cells": [
  {
   "cell_type": "markdown",
   "metadata": {},
   "source": [
    "# 7.1 Python的常见标准库"
   ]
  },
  {
   "cell_type": "code",
   "execution_count": null,
   "metadata": {},
   "outputs": [],
   "source": [
    "#python内置了一些强大的标准库，这些库不需要安装即可直接调用，下面让我们了解一下常见的标准库的基本用法"
   ]
  },
  {
   "cell_type": "markdown",
   "metadata": {},
   "source": [
    "## 7.1.1 re模块"
   ]
  },
  {
   "cell_type": "code",
   "execution_count": 1,
   "metadata": {},
   "outputs": [
    {
     "name": "stdout",
     "output_type": "stream",
     "text": [
      "(0, 3)\n",
      "None\n"
     ]
    }
   ],
   "source": [
    "#re 模块使 Python 语言拥有全部的正则表达式功能。能帮助你方便的检查一个字符串是否与某种模式匹配。\n",
    "import re\n",
    "print(re.match('www', 'www.runoob.com').span())  # 在起始位置匹配,返回起始到结束的索引\n",
    "print(re.match('com', 'www.runoob.com'))         # re.match 只匹配字符串的开始，不在起始位置匹配,会返回None"
   ]
  },
  {
   "cell_type": "code",
   "execution_count": 2,
   "metadata": {},
   "outputs": [
    {
     "name": "stdout",
     "output_type": "stream",
     "text": [
      "(0, 3)\n",
      "(11, 14)\n"
     ]
    }
   ],
   "source": [
    "#re.match 只匹配字符串的开始，如果字符串开始不符合正则表达式，则匹配失败，函数返回 None，而 re.search 匹配整个字符串，直到找到一个匹配。\n",
    "print(re.search('www', 'www.runoob.com').span())  # 在起始位置匹配\n",
    "print(re.search('com', 'www.runoob.com').span())         # 不在起始位置匹配"
   ]
  },
  {
   "cell_type": "code",
   "execution_count": 3,
   "metadata": {},
   "outputs": [
    {
     "name": "stdout",
     "output_type": "stream",
     "text": [
      "电话号码 :  2004-959-559 \n",
      "电话号码 :  2004959559\n"
     ]
    }
   ],
   "source": [
    "phone = \"2004-959-559 # 这是一个电话号码\"\n",
    " \n",
    "# 删除注释\n",
    "num = re.sub(r'#.*$', \"\", phone)\n",
    "print (\"电话号码 : \", num)\n",
    " \n",
    "# 移除非数字的内容\n",
    "num = re.sub(r'\\D', \"\", phone)\n",
    "print (\"电话号码 : \", num)"
   ]
  },
  {
   "cell_type": "markdown",
   "metadata": {},
   "source": [
    "## 7.1.2 math模块"
   ]
  },
  {
   "cell_type": "code",
   "execution_count": null,
   "metadata": {},
   "outputs": [],
   "source": [
    "#math 模块提供了许多对浮点数的数学运算函数。\n",
    "import math\n",
    "print('取大于等于x的最小的整数值，如果x是一个整数，则返回x:',math.ceil(4.12))"
   ]
  },
  {
   "cell_type": "code",
   "execution_count": null,
   "metadata": {},
   "outputs": [],
   "source": [
    "print('floor()取小于等于x的最大的整数值，如果x是一个整数，则返回自身:',math.floor(4.99))"
   ]
  },
  {
   "cell_type": "code",
   "execution_count": null,
   "metadata": {},
   "outputs": [],
   "source": [
    "print(math.sqrt(100))"
   ]
  },
  {
   "cell_type": "markdown",
   "metadata": {},
   "source": [
    "## 7.1.3 random模块"
   ]
  },
  {
   "cell_type": "code",
   "execution_count": 11,
   "metadata": {},
   "outputs": [
    {
     "data": {
      "text/plain": [
       "0.4501781620289914"
      ]
     },
     "execution_count": 11,
     "metadata": {},
     "output_type": "execute_result"
    }
   ],
   "source": [
    "#random() 方法返回随机生成的一个实数，它在[0,1)范围内。\n",
    "import random\n",
    "random.random()"
   ]
  },
  {
   "cell_type": "code",
   "execution_count": 9,
   "metadata": {},
   "outputs": [
    {
     "name": "stdout",
     "output_type": "stream",
     "text": [
      "10\n",
      "0.9311236487107168\n",
      "2.026213129869026\n",
      "m\n",
      "33\n",
      "[7, 1, 6, 3, 5]\n"
     ]
    }
   ],
   "source": [
    "import random\n",
    "\n",
    "print( random.randint(1,10) )        # 产生 1 到 10 的一个整数型随机数  \n",
    "print( random.random() )             # 产生 0 到 1 之间的随机浮点数\n",
    "print( random.uniform(1.1,5.4) )     # 产生  1.1 到 5.4 之间的随机浮点数，区间可以不是整数\n",
    "print( random.choice('tomorrow') )   # 从序列中随机选取一个元素\n",
    "print( random.randrange(1,100,2) )   # 生成从1到100的间隔为2的随机整数\n",
    "\n",
    "a=[1,3,5,6,7]                # 将序列a中的元素顺序打乱\n",
    "random.shuffle(a)\n",
    "print(a)"
   ]
  },
  {
   "cell_type": "markdown",
   "metadata": {},
   "source": [
    "## 7.1.4 statistics模块"
   ]
  },
  {
   "cell_type": "code",
   "execution_count": null,
   "metadata": {},
   "outputs": [],
   "source": [
    "#统计模块statistics\n",
    "import statistics\n",
    "example_list = [1,2,3,4,5,6]\n",
    "x = statistics.mean(example_list)\n",
    "print(x)"
   ]
  },
  {
   "cell_type": "code",
   "execution_count": null,
   "metadata": {},
   "outputs": [],
   "source": [
    "x = statistics.median(example_list)\n",
    "print(x)"
   ]
  },
  {
   "cell_type": "code",
   "execution_count": 4,
   "metadata": {},
   "outputs": [
    {
     "ename": "NameError",
     "evalue": "name 'statistics' is not defined",
     "output_type": "error",
     "traceback": [
      "\u001b[1;31m---------------------------------------------------------------------------\u001b[0m",
      "\u001b[1;31mNameError\u001b[0m                                 Traceback (most recent call last)",
      "\u001b[1;32m<ipython-input-4-b93e8a858faa>\u001b[0m in \u001b[0;36m<module>\u001b[1;34m\u001b[0m\n\u001b[1;32m----> 1\u001b[1;33m \u001b[0mx\u001b[0m \u001b[1;33m=\u001b[0m \u001b[0mstatistics\u001b[0m\u001b[1;33m.\u001b[0m\u001b[0mmode\u001b[0m\u001b[1;33m(\u001b[0m\u001b[1;33m[\u001b[0m\u001b[1;36m1\u001b[0m\u001b[1;33m,\u001b[0m\u001b[1;36m1\u001b[0m\u001b[1;33m,\u001b[0m\u001b[1;36m2\u001b[0m\u001b[1;33m,\u001b[0m\u001b[1;36m3\u001b[0m\u001b[1;33m,\u001b[0m\u001b[1;36m4\u001b[0m\u001b[1;33m,\u001b[0m\u001b[1;36m3\u001b[0m\u001b[1;33m,\u001b[0m\u001b[1;36m3\u001b[0m\u001b[1;33m,\u001b[0m\u001b[1;36m3\u001b[0m\u001b[1;33m,\u001b[0m\u001b[1;36m3\u001b[0m\u001b[1;33m]\u001b[0m\u001b[1;33m)\u001b[0m\u001b[1;33m\u001b[0m\u001b[1;33m\u001b[0m\u001b[0m\n\u001b[0m\u001b[0;32m      2\u001b[0m \u001b[0mprint\u001b[0m\u001b[1;33m(\u001b[0m\u001b[0mx\u001b[0m\u001b[1;33m)\u001b[0m\u001b[1;33m\u001b[0m\u001b[1;33m\u001b[0m\u001b[0m\n",
      "\u001b[1;31mNameError\u001b[0m: name 'statistics' is not defined"
     ]
    }
   ],
   "source": [
    "x = statistics.mode([1,1,2,3,4,3,3,3,3])\n",
    "print(x)"
   ]
  },
  {
   "cell_type": "markdown",
   "metadata": {},
   "source": [
    "## 7.1.5 datetime模块"
   ]
  },
  {
   "cell_type": "code",
   "execution_count": null,
   "metadata": {},
   "outputs": [],
   "source": [
    "import datetime\n",
    "\n",
    "print(datetime.date.today()) \n",
    "print(datetime.date.today().strftime('%d/%m/%Y'))\n",
    "print(datetime.date(1941, 1, 5))"
   ]
  },
  {
   "cell_type": "markdown",
   "metadata": {},
   "source": [
    "# 7.2 利用pandas进行数据分析"
   ]
  },
  {
   "cell_type": "code",
   "execution_count": null,
   "metadata": {},
   "outputs": [],
   "source": [
    "# pandas 是基于NumPy 的一种工具，该工具是为了解决数据分析任务而创建的。Pandas 纳入了大量库和一些标准的数据模型，提供了高效地操作大型数据集所需的工具。\n",
    "#首先需要在命令行打开python环境并且使用pip install pandas安装pandas库以及numpy\n",
    "#Series是一种类似于一维数组的对象，它由一组数据（各种NumPy数据类型）以及一组与之相关的数据标签（即索引）组成，即index和values两部分，可以通过索引的方式选取Series中的单个或一组值。\n",
    "import numpy as np, pandas as pd\n",
    "\n",
    "arr1 = np.arange(10)\n",
    "s1 = pd.Series(arr1)\n",
    "print(arr1)\n",
    "print(s1)   #由于我们没有为数据指定索引，于是会自动创建一个0到N-1（N为数据的长度）的整数型索引"
   ]
  },
  {
   "cell_type": "code",
   "execution_count": null,
   "metadata": {},
   "outputs": [],
   "source": [
    "# 可以指定索引：\n",
    "obj2 = pd.Series([4, 7, -5, 3], index=['a', 'b', 'c', 'd'])\n",
    "print(obj2)\n"
   ]
  },
  {
   "cell_type": "code",
   "execution_count": null,
   "metadata": {},
   "outputs": [],
   "source": [
    "# 可以用两种方式索引：\n",
    "print(obj2[0])\n",
    "print(obj2['a'])  # 都是该序列中的第一个元素。\n",
    "\n",
    "print(obj2[[1,3]])\n",
    "print(obj2[['b', 'd']])  # 打印第2、4个元素（注意两个方括号)"
   ]
  },
  {
   "cell_type": "code",
   "execution_count": null,
   "metadata": {},
   "outputs": [],
   "source": [
    "# 筛选和计算：\n",
    "print(obj2[obj2 > 0])\n",
    "print('-'*20)\n",
    "\n",
    "print(obj2*2)\n",
    "print('-'*20)\n",
    "\n",
    "print(np.exp(obj2))\n"
   ]
  },
  {
   "cell_type": "code",
   "execution_count": null,
   "metadata": {},
   "outputs": [],
   "source": [
    "#DataFrame是一个表格型的数据类型，每列值类型可以不同，是最常用的pandas对象。\n",
    "data = {'state': ['Ohio', 'Ohio', 'Ohio', 'Nevada', 'Nevada', 'Nevada'],\n",
    "        'year': [2000, 2001, 2002, 2001, 2002, 2003],\n",
    "        'pop': [1.5, 1.7, 3.6, 2.4, 2.9, 3.2]}\n",
    "df= pd.DataFrame(data)\n",
    "print(df)"
   ]
  },
  {
   "cell_type": "code",
   "execution_count": null,
   "metadata": {},
   "outputs": [],
   "source": [
    "# df.values：将DataFrame转换为ndarray二维数组，注意后面不加()。\n",
    "print(df['state'])\n",
    "print(df[0:3])"
   ]
  },
  {
   "cell_type": "code",
   "execution_count": null,
   "metadata": {},
   "outputs": [],
   "source": [
    "df1=pd.DataFrame(np.ones((3,4))*0,columns=['a','b','c','d'])\n",
    "df2=pd.DataFrame(np.ones((3,4))*1,columns=['a','b','c','d'])\n",
    "df3=pd.DataFrame(np.ones((3,4))*2,columns=['a','b','c','d'])\n",
    "print(df1)\n",
    "res=pd.concat([df1,df2,df3],axis=0,ignore_index=True)#0表示竖项合并 1表示横项合并 ingnore_index重置序列index index变为0 1 2 3 4 5 6 7 8\n",
    "print(res)"
   ]
  },
  {
   "cell_type": "code",
   "execution_count": null,
   "metadata": {},
   "outputs": [],
   "source": [
    "#join行相同的进行合并:相当于内连接\n",
    "res=pd.concat([df1,df2,df3],axis=1,join='outer')\n",
    "print(res)"
   ]
  },
  {
   "cell_type": "code",
   "execution_count": null,
   "metadata": {},
   "outputs": [],
   "source": [
    "#使用pandas读取csv文件\n",
    "data=pd.read_csv('./data/test.csv')\n",
    "print(data)\n",
    "# 在DataFrame中增加一列：\n",
    "data['five'] = [100,200,300,400]\n",
    "print('打印前5行：')\n",
    "print(data.head())\n",
    "print('查看数据的行，以对象返回:')\n",
    "print(data.index) \n",
    "print('查看数据的列键')\n",
    "print(data.columns) \n",
    "print('查看five这一列的数据')\n",
    "print(data.loc[:,['five']])\n",
    "print('查看数据的行数和列数')\n",
    "print(data.shape)"
   ]
  },
  {
   "cell_type": "code",
   "execution_count": null,
   "metadata": {},
   "outputs": [],
   "source": [
    "print(data.describe())\n",
    "# 默认统计数值型数据每列数据平均值，标准差，最大值，最小值，25%，50%，75%比例。"
   ]
  },
  {
   "cell_type": "code",
   "execution_count": null,
   "metadata": {},
   "outputs": [],
   "source": [
    "# 通过值来选择：\n",
    "print(data < 5)\n",
    "data[data<5] = 0 # 将所有小于5的元素设置为0\n",
    "print(data)"
   ]
  },
  {
   "cell_type": "code",
   "execution_count": null,
   "metadata": {},
   "outputs": [],
   "source": [
    "print(data.drop(0,axis=0)) #删除行，注意原数据不变，返回一个新数据\n",
    "print(data)"
   ]
  },
  {
   "cell_type": "code",
   "execution_count": null,
   "metadata": {},
   "outputs": [],
   "source": [
    "#删除一行并写入到原csv文件\n",
    "data_new=data.drop(0,axis=0)\n",
    "data_new.to_csv('./data/new_test.csv')"
   ]
  },
  {
   "cell_type": "markdown",
   "metadata": {},
   "source": [
    "# 7.3 scikit-learn库介绍"
   ]
  },
  {
   "cell_type": "code",
   "execution_count": null,
   "metadata": {},
   "outputs": [],
   "source": [
    "#scikit-learn是基于Python的一个机器学习库，你可以在scikit-learn库中选择合适的模型，使用它训练数据集并对新数据集作出预测。在使用之前我们同样需要pip install sklearn"
   ]
  },
  {
   "cell_type": "markdown",
   "metadata": {},
   "source": [
    "## 7.3.1 回归分析"
   ]
  },
  {
   "cell_type": "code",
   "execution_count": null,
   "metadata": {},
   "outputs": [],
   "source": [
    "#回归通过训练给定的示例即训练集，模型学习到输入特征和输出值之间的映射关系\n",
    "# 线性回归预测案例\n",
    "# 线性回归的目标是提取输入变量与输出变量的关联线性模型，这就要求实际输出与线性方程预测的输出的残差平方和最小化。这种方法也别称为最小二乘法。\n",
    "import sys\n",
    "import numpy as np\n",
    "from sklearn.linear_model import LinearRegression#调用线性回归模型 \n",
    "import sklearn.metrics as sm#调用精度评价\n",
    "import matplotlib.pyplot as plt#调用作图工具\n",
    "\n",
    "X = []\n",
    "y = []\n",
    "f = open('./data/data_singlevar.txt', 'r')#打开文件\n",
    "lines = f.readlines()     #一次性按行把所有数据读取出来\n",
    "for line in lines:       #逐行读取文件\n",
    "    #print(line)          #打印一行数据\n",
    "    xt, yt = [float(i) for i in line.split(',')]#逗号分隔字段，并将字段转化为浮点数\n",
    "    X.append(xt)\n",
    "    y.append(yt)\n",
    "print(X)\n",
    "print(y)"
   ]
  },
  {
   "cell_type": "code",
   "execution_count": null,
   "metadata": {},
   "outputs": [],
   "source": [
    "#建立机器学习模型时，需要用一种方法来验证模型，检查模型是否达到一定的满意度。为了实现这个方法，把数据分成两组：训练集（training dataset）和测试集（testing dataset）。训练集用来建立模型，测试集用来验证模型对未知数据的学习效果。因此，先把数据分为训练集和测试集。\n",
    "#划分数据为训练集与验证集\n",
    "num_training = int(0.8*len(X))\n",
    "num_test = len(X) - num_training\n",
    "#训练数据,80%的数据是训练数据\n",
    "X_train = np.array(X[:num_training]).reshape(num_training, 1)\n",
    "y_train = np.array(y[:num_training])\n",
    "#测试数据，20%的数据是测试数据\n",
    "X_test = np.array(X[num_training:]).reshape(num_test, 1)\n",
    "y_test = np.array(y[num_training:])"
   ]
  },
  {
   "cell_type": "code",
   "execution_count": null,
   "metadata": {},
   "outputs": [],
   "source": [
    "#训练模型\n",
    "linear_regressor = LinearRegression()\n",
    "linear_regressor.fit(X_train, y_train) #用训练数据训练模型\n",
    "y_predict = linear_regressor.predict(X_train)\n",
    "#用训练好的模型对测试集上的数据进行预测\n",
    "y_test_predict = linear_regressor.predict(X_test) #预测输出结果\n",
    "print('The score of LinearRegressor is:',linear_regressor.score(X_test, y_test))"
   ]
  },
  {
   "cell_type": "code",
   "execution_count": null,
   "metadata": {},
   "outputs": [],
   "source": [
    "#绘图 对预测数据进行可视化展示\n",
    "plt.figure()\n",
    "plt.scatter(X_train, y_train, color = 'green')\n",
    "plt.plot(X_train, y_predict, color = 'black', linewidth = 4)\n",
    "plt.title('Traning Data')\n",
    "plt.show()"
   ]
  },
  {
   "cell_type": "code",
   "execution_count": null,
   "metadata": {},
   "outputs": [],
   "source": [
    "plt.scatter(X_test, y_test, color = 'green')\n",
    "plt.plot(X_test, y_test_predict, color = 'black', linewidth = 4)\n",
    "plt.title('Test Data')\n",
    "plt.show()"
   ]
  },
  {
   "cell_type": "markdown",
   "metadata": {},
   "source": [
    "## 7.3.2 分类"
   ]
  },
  {
   "cell_type": "code",
   "execution_count": null,
   "metadata": {},
   "outputs": [],
   "source": [
    "#调用sklearn库的knn算法进行酒的分类。\n",
    "#KNN分类算法：如果一个样本在特征空间中的K个最相似（即特征空间中最邻近）的样本中的大多数属于某一个类别，则该样本也属于这个类别。\n",
    "from sklearn.datasets import load_wine\n",
    "#从datasets中载入酒的数据集\n",
    "wine_dataset = load_wine()\n",
    "#实际上load_wine()函数载入的数据集是一种字典对象，它包括keys和values\n",
    "print(wine_dataset.keys())\n",
    "#看看数据集中究竟有多少样本和变量\n",
    "wine_dataset['data'].shape"
   ]
  },
  {
   "cell_type": "code",
   "execution_count": null,
   "metadata": {},
   "outputs": [],
   "source": [
    "#生成训练数据集和测试数据集\n",
    "#导入数据集拆分工具\n",
    "from sklearn.model_selection import train_test_split\n",
    "#将数据集拆分为训练数据集和测试数据集\n",
    "x_train, x_test, y_train, y_test = train_test_split(wine_dataset['data'], wine_dataset['target'], random_state=0)\n",
    "#拆分后的数据集\n",
    "x_train.shape,x_test.shape,y_test.shape,y_train.shape"
   ]
  },
  {
   "cell_type": "code",
   "execution_count": null,
   "metadata": {},
   "outputs": [],
   "source": [
    "#使用KNN进行建模\n",
    "#导入KNN分类模型\n",
    "from sklearn.neighbors import KNeighborsClassifier\n",
    "#指定模型的n_neighbors参数值为1\n",
    "knn = KNeighborsClassifier(n_neighbors = 1)\n",
    "#接下来我们要使用knn对象中称为拟合(fit)的方法来进行建模，建模的 依据就是x_train和y_train"
   ]
  },
  {
   "cell_type": "code",
   "execution_count": null,
   "metadata": {},
   "outputs": [],
   "source": [
    "#拟合knn模型\n",
    "knn.fit(x_train,y_train)"
   ]
  },
  {
   "cell_type": "code",
   "execution_count": null,
   "metadata": {},
   "outputs": [],
   "source": [
    "#使用模型对新样本的分类进行预测\n",
    "#在这之前先用测试数据集对模型进行打分\n",
    "knn.score(x_test,y_test)"
   ]
  },
  {
   "cell_type": "code",
   "execution_count": null,
   "metadata": {},
   "outputs": [],
   "source": [
    "#下面我们用建好的模型对新酒做出分类预测\n",
    "import numpy as np\n",
    "#输入新的数据点\n",
    "x_new = np.array([[13.2, 2.77, 2.51, 18.5, 96.6, 1.04, 2.55, 0.57, 1.47, 6.2, 1.05, 3.33, 820]])\n",
    "#使用predict()进行预测\n",
    "prediction = knn.predict(x_new)\n",
    "#接下来看新酒属于哪个分类\n",
    "wine_dataset['target_names'][prediction]"
   ]
  },
  {
   "cell_type": "markdown",
   "metadata": {},
   "source": [
    "## 7.3.3 聚类"
   ]
  },
  {
   "cell_type": "code",
   "execution_count": null,
   "metadata": {},
   "outputs": [],
   "source": [
    "#聚类是在没有给定划分类别的情况下，根据数据的相似度进行分组的一种方法，分组的原则是组内距离最小化而组间距离最大化。\n",
    "import matplotlib.pyplot as plt\n",
    "from sklearn.datasets.samples_generator import make_blobs\n",
    "from sklearn.cluster import KMeans\n",
    "from sklearn.metrics import calinski_harabasz_score\n",
    "\n",
    "# 创建数据集\n",
    "# X为样本特征，Y为样本簇类别， 共1000个样本，每个样本4个特征，共4个簇，\n",
    "# 簇中心在[-1,-1], [0,0],[1,1], [2,2]， 簇方差分别为[0.4, 0.2, 0.2, 0.2]\n",
    "X, y = make_blobs(n_samples=1000, n_features=2, centers=[[-1, -1], [0, 0], [1, 1], [2, 2]],\n",
    "                  cluster_std=[0.4, 0.2, 0.2, 0.2],\n",
    "                  random_state=9)\n"
   ]
  },
  {
   "cell_type": "code",
   "execution_count": null,
   "metadata": {},
   "outputs": [],
   "source": [
    "# 数据集可视化\n",
    "plt.scatter(X[:, 0], X[:, 1], marker='o')\n",
    "plt.show()"
   ]
  },
  {
   "cell_type": "code",
   "execution_count": null,
   "metadata": {},
   "outputs": [],
   "source": [
    "for i in range(2,5):\n",
    "    y_pred = KMeans(n_clusters=i, random_state=9).fit_predict(X)\n",
    "# 分别尝试n_cluses=2\\3\\4,然后查看聚类效果\n",
    "    plt.scatter(X[:, 0], X[:, 1], c=y_pred)\n",
    "    plt.show()"
   ]
  },
  {
   "cell_type": "code",
   "execution_count": null,
   "metadata": {},
   "outputs": [],
   "source": [
    "# 用Calinski-Harabasz Index评估的聚类分数\n",
    "print(calinski_harabasz_score(X, y_pred))"
   ]
  },
  {
   "cell_type": "code",
   "execution_count": null,
   "metadata": {},
   "outputs": [],
   "source": []
  }
 ],
 "metadata": {
  "kernelspec": {
   "display_name": "Python 3",
   "language": "python",
   "name": "python3"
  },
  "language_info": {
   "codemirror_mode": {
    "name": "ipython",
    "version": 3
   },
   "file_extension": ".py",
   "mimetype": "text/x-python",
   "name": "python",
   "nbconvert_exporter": "python",
   "pygments_lexer": "ipython3",
   "version": "3.8.0"
  }
 },
 "nbformat": 4,
 "nbformat_minor": 4
}
